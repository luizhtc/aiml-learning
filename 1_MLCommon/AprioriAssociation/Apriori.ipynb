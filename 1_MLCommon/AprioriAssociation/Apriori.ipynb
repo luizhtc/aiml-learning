{
 "cells": [
  {
   "cell_type": "code",
   "execution_count": 8,
   "metadata": {},
   "outputs": [],
   "source": [
    "import pandas as pd\n",
    "import csv\n",
    "from mlxtend.preprocessing import TransactionEncoder\n",
    "from mlxtend.frequent_patterns import apriori, association_rules"
   ]
  },
  {
   "cell_type": "code",
   "execution_count": 9,
   "metadata": {},
   "outputs": [
    {
     "data": {
      "text/plain": [
       "[['PAINEL', 'BANCOS', 'BOLSA DA PORTA', 'ESTRIBO'],\n",
       " ['BANCOS', 'ALARME', 'BOLSA DA PORTA'],\n",
       " ['PAINEL', 'ALARME', 'ESTRIBO'],\n",
       " ['BANCOS', 'PAINEL', 'ESTRIBO'],\n",
       " ['BOLSA DA PORTA', 'PAINEL', 'ALARME'],\n",
       " ['PAINEL', 'ALARME', 'ESTRIBO', 'BANCOS'],\n",
       " ['BANCOS', 'BOLSA DA PORTA', 'ESTRIBO'],\n",
       " ['PAINEL', 'BANCOS', 'ALARME', 'ESTRIBO'],\n",
       " ['BOLSA DA PORTA', 'ALARME', 'ESTRIBO'],\n",
       " ['PAINEL', 'ALARME', 'BANCOS'],\n",
       " ['BANCOS', 'BOLSA DA PORTA', 'PAINEL'],\n",
       " ['PAINEL', 'ESTRIBO', 'BANCOS'],\n",
       " ['BANCOS', 'ALARME', 'BOLSA DA PORTA', 'ESTRIBO'],\n",
       " ['PAINEL', 'ALARME', 'BANCOS', 'ESTRIBO'],\n",
       " ['BOLSA DA PORTA', 'PAINEL', 'ALARME', 'ESTRIBO'],\n",
       " ['ALARME', 'ESTRIBO', 'BANCOS'],\n",
       " ['BANCOS', 'BOLSA DA PORTA', 'ALARME'],\n",
       " ['PAINEL', 'BANCOS', 'ESTRIBO'],\n",
       " ['BOLSA DA PORTA', 'ALARME', 'PAINEL'],\n",
       " ['PAINEL', 'ALARME', 'BANCOS', 'ESTRIBO']]"
      ]
     },
     "execution_count": 9,
     "metadata": {},
     "output_type": "execute_result"
    }
   ],
   "source": [
    "with open('../../0_data/Transacoes.txt', 'r') as f:\n",
    "    transactions = []\n",
    "    csvreader = csv.reader(f)\n",
    "    for row in csvreader:\n",
    "        transactions.append(row)\n",
    "\n",
    "transactions"
   ]
  },
  {
   "cell_type": "code",
   "execution_count": 10,
   "metadata": {},
   "outputs": [
    {
     "data": {
      "text/html": [
       "<div>\n",
       "<style scoped>\n",
       "    .dataframe tbody tr th:only-of-type {\n",
       "        vertical-align: middle;\n",
       "    }\n",
       "\n",
       "    .dataframe tbody tr th {\n",
       "        vertical-align: top;\n",
       "    }\n",
       "\n",
       "    .dataframe thead th {\n",
       "        text-align: right;\n",
       "    }\n",
       "</style>\n",
       "<table border=\"1\" class=\"dataframe\">\n",
       "  <thead>\n",
       "    <tr style=\"text-align: right;\">\n",
       "      <th></th>\n",
       "      <th>ALARME</th>\n",
       "      <th>BANCOS</th>\n",
       "      <th>BOLSA DA PORTA</th>\n",
       "      <th>ESTRIBO</th>\n",
       "      <th>PAINEL</th>\n",
       "    </tr>\n",
       "  </thead>\n",
       "  <tbody>\n",
       "    <tr>\n",
       "      <th>0</th>\n",
       "      <td>False</td>\n",
       "      <td>True</td>\n",
       "      <td>True</td>\n",
       "      <td>True</td>\n",
       "      <td>True</td>\n",
       "    </tr>\n",
       "    <tr>\n",
       "      <th>1</th>\n",
       "      <td>True</td>\n",
       "      <td>True</td>\n",
       "      <td>True</td>\n",
       "      <td>False</td>\n",
       "      <td>False</td>\n",
       "    </tr>\n",
       "    <tr>\n",
       "      <th>2</th>\n",
       "      <td>True</td>\n",
       "      <td>False</td>\n",
       "      <td>False</td>\n",
       "      <td>True</td>\n",
       "      <td>True</td>\n",
       "    </tr>\n",
       "    <tr>\n",
       "      <th>3</th>\n",
       "      <td>False</td>\n",
       "      <td>True</td>\n",
       "      <td>False</td>\n",
       "      <td>True</td>\n",
       "      <td>True</td>\n",
       "    </tr>\n",
       "    <tr>\n",
       "      <th>4</th>\n",
       "      <td>True</td>\n",
       "      <td>False</td>\n",
       "      <td>True</td>\n",
       "      <td>False</td>\n",
       "      <td>True</td>\n",
       "    </tr>\n",
       "  </tbody>\n",
       "</table>\n",
       "</div>"
      ],
      "text/plain": [
       "   ALARME  BANCOS  BOLSA DA PORTA  ESTRIBO  PAINEL\n",
       "0   False    True            True     True    True\n",
       "1    True    True            True    False   False\n",
       "2    True   False           False     True    True\n",
       "3   False    True           False     True    True\n",
       "4    True   False            True    False    True"
      ]
     },
     "execution_count": 10,
     "metadata": {},
     "output_type": "execute_result"
    }
   ],
   "source": [
    "te = TransactionEncoder()\n",
    "te_ary = te.fit(transactions).transform(transactions)\n",
    "df = pd.DataFrame(te_ary, columns=te.columns_)\n",
    "df.head()"
   ]
  },
  {
   "cell_type": "code",
   "execution_count": 12,
   "metadata": {},
   "outputs": [
    {
     "data": {
      "text/html": [
       "<div>\n",
       "<style scoped>\n",
       "    .dataframe tbody tr th:only-of-type {\n",
       "        vertical-align: middle;\n",
       "    }\n",
       "\n",
       "    .dataframe tbody tr th {\n",
       "        vertical-align: top;\n",
       "    }\n",
       "\n",
       "    .dataframe thead th {\n",
       "        text-align: right;\n",
       "    }\n",
       "</style>\n",
       "<table border=\"1\" class=\"dataframe\">\n",
       "  <thead>\n",
       "    <tr style=\"text-align: right;\">\n",
       "      <th></th>\n",
       "      <th>support</th>\n",
       "      <th>itemsets</th>\n",
       "    </tr>\n",
       "  </thead>\n",
       "  <tbody>\n",
       "    <tr>\n",
       "      <th>0</th>\n",
       "      <td>0.70</td>\n",
       "      <td>(ALARME)</td>\n",
       "    </tr>\n",
       "    <tr>\n",
       "      <th>1</th>\n",
       "      <td>0.75</td>\n",
       "      <td>(BANCOS)</td>\n",
       "    </tr>\n",
       "    <tr>\n",
       "      <th>2</th>\n",
       "      <td>0.50</td>\n",
       "      <td>(BOLSA DA PORTA)</td>\n",
       "    </tr>\n",
       "    <tr>\n",
       "      <th>3</th>\n",
       "      <td>0.70</td>\n",
       "      <td>(ESTRIBO)</td>\n",
       "    </tr>\n",
       "    <tr>\n",
       "      <th>4</th>\n",
       "      <td>0.70</td>\n",
       "      <td>(PAINEL)</td>\n",
       "    </tr>\n",
       "    <tr>\n",
       "      <th>5</th>\n",
       "      <td>0.55</td>\n",
       "      <td>(ESTRIBO, BANCOS)</td>\n",
       "    </tr>\n",
       "    <tr>\n",
       "      <th>6</th>\n",
       "      <td>0.50</td>\n",
       "      <td>(PAINEL, BANCOS)</td>\n",
       "    </tr>\n",
       "    <tr>\n",
       "      <th>7</th>\n",
       "      <td>0.50</td>\n",
       "      <td>(ESTRIBO, PAINEL)</td>\n",
       "    </tr>\n",
       "  </tbody>\n",
       "</table>\n",
       "</div>"
      ],
      "text/plain": [
       "   support           itemsets\n",
       "0     0.70           (ALARME)\n",
       "1     0.75           (BANCOS)\n",
       "2     0.50   (BOLSA DA PORTA)\n",
       "3     0.70          (ESTRIBO)\n",
       "4     0.70           (PAINEL)\n",
       "5     0.55  (ESTRIBO, BANCOS)\n",
       "6     0.50   (PAINEL, BANCOS)\n",
       "7     0.50  (ESTRIBO, PAINEL)"
      ]
     },
     "execution_count": 12,
     "metadata": {},
     "output_type": "execute_result"
    }
   ],
   "source": [
    "frequent_itemsets = apriori(df, min_support=0.5, use_colnames=True)\n",
    "frequent_itemsets"
   ]
  },
  {
   "cell_type": "code",
   "execution_count": 13,
   "metadata": {},
   "outputs": [
    {
     "name": "stdout",
     "output_type": "stream",
     "text": [
      "  antecedents consequents  antecedent support  consequent support  support  \\\n",
      "0   (ESTRIBO)    (BANCOS)                0.70                0.75     0.55   \n",
      "1    (BANCOS)   (ESTRIBO)                0.75                0.70     0.55   \n",
      "2    (PAINEL)    (BANCOS)                0.70                0.75     0.50   \n",
      "3    (BANCOS)    (PAINEL)                0.75                0.70     0.50   \n",
      "4   (ESTRIBO)    (PAINEL)                0.70                0.70     0.50   \n",
      "5    (PAINEL)   (ESTRIBO)                0.70                0.70     0.50   \n",
      "\n",
      "   confidence      lift  leverage  conviction  \n",
      "0    0.785714  1.047619     0.025    1.166667  \n",
      "1    0.733333  1.047619     0.025    1.125000  \n",
      "2    0.714286  0.952381    -0.025    0.875000  \n",
      "3    0.666667  0.952381    -0.025    0.900000  \n",
      "4    0.714286  1.020408     0.010    1.050000  \n",
      "5    0.714286  1.020408     0.010    1.050000  \n"
     ]
    }
   ],
   "source": [
    "rules = association_rules(frequent_itemsets, metric='confidence', min_threshold=0.5)\n",
    "print(rules)"
   ]
  }
 ],
 "metadata": {
  "kernelspec": {
   "display_name": ".venv",
   "language": "python",
   "name": "python3"
  },
  "language_info": {
   "codemirror_mode": {
    "name": "ipython",
    "version": 3
   },
   "file_extension": ".py",
   "mimetype": "text/x-python",
   "name": "python",
   "nbconvert_exporter": "python",
   "pygments_lexer": "ipython3",
   "version": "3.11.9"
  }
 },
 "nbformat": 4,
 "nbformat_minor": 2
}
