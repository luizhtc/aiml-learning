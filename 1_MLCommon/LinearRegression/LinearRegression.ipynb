{
 "cells": [
  {
   "cell_type": "code",
   "execution_count": 1,
   "metadata": {},
   "outputs": [],
   "source": [
    "import numpy as np"
   ]
  },
  {
   "cell_type": "code",
   "execution_count": 2,
   "metadata": {},
   "outputs": [],
   "source": [
    "class LinearRegression:\n",
    "    def __init__(self, x: np.array, y: np.array):\n",
    "        self.x = x\n",
    "        self.y = y\n",
    "        self.__correlation_coefficient = self.__correlation()\n",
    "        self.__incline_coefficient = self.__incline()\n",
    "        self.__intercept_coefficient = self.__intercept()\n",
    "\n",
    "    def __correlation(self):\n",
    "        covar = np.cov(self.x, self.y, bias=True)[0][1]\n",
    "        var_x = np.var(self.x)\n",
    "        var_y = np.var(self.y)\n",
    "        return covar / np.sqrt(var_x * var_y)\n",
    "\n",
    "    def __incline(self):\n",
    "        stdx = np.std(self.x)\n",
    "        stdy = np.std(self.y)\n",
    "        return self.__correlation_coefficient * (stdy / stdx)\n",
    "\n",
    "    def __intercept(self):\n",
    "        mean_x = np.mean(self.x)\n",
    "        mean_y = np.mean(self.y)\n",
    "        return mean_y - mean_x * self.__incline_coefficient\n",
    "\n",
    "    def predict(self, valor):\n",
    "        return self.__intercept_coefficient + (self.__incline_coefficient * valor)\n"
   ]
  },
  {
   "cell_type": "code",
   "execution_count": 3,
   "metadata": {},
   "outputs": [
    {
     "name": "stdout",
     "output_type": "stream",
     "text": [
      "12.0\n"
     ]
    }
   ],
   "source": [
    "x = np.array([1,2,3,4,5])\n",
    "y = np.array([2,4,6,8,10])\n",
    "\n",
    "lr = LinearRegression(x,y)\n",
    "prediction = lr.predict(6)\n",
    "print(prediction)"
   ]
  }
 ],
 "metadata": {
  "kernelspec": {
   "display_name": ".venv",
   "language": "python",
   "name": "python3"
  },
  "language_info": {
   "codemirror_mode": {
    "name": "ipython",
    "version": 3
   },
   "file_extension": ".py",
   "mimetype": "text/x-python",
   "name": "python",
   "nbconvert_exporter": "python",
   "pygments_lexer": "ipython3",
   "version": "3.11.9"
  }
 },
 "nbformat": 4,
 "nbformat_minor": 2
}
